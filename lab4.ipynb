{
 "cells": [
  {
   "cell_type": "markdown",
   "metadata": {},
   "source": [
    "<h1 align=\"center\"> Лабораторная работа №4 </h1>\n",
    "<h1 align=\"center\"> Динамические системы </h1>\n",
    "\n",
    "---\n",
    "\n",
    "<h1 align=\"center\"> Университет ИТМО </h1>\n",
    "<h2 align=\"center\"> Факультет Систем Управления и Робототехники </h2>\n",
    "\n",
    "---\n",
    "\n",
    "### Выполнили:\n",
    "- **Бакин Савва**\n",
    "- **Тимур Али-Оглы**\n",
    "\n",
    "---\n",
    "\n",
    "### Проверил:\n",
    "- **Догадин Егор Витальевич**\n",
    "\n",
    "---"
   ]
  },
  {
   "cell_type": "code",
   "execution_count": 1,
   "metadata": {},
   "outputs": [],
   "source": [
    "from manim import *\n",
    "import scipy as scp\n",
    "config.media_width = \"75%\"\n",
    "config.verbosity = \"WARNING\""
   ]
  },
  {
   "cell_type": "markdown",
   "metadata": {},
   "source": [
    "# Общий принцип нахождения матриц с заданными собственными числами/векторами"
   ]
  },
  {
   "cell_type": "markdown",
   "metadata": {},
   "source": [
    "$$\\begin{align*}\n",
    "&\\lambda = \\lambda_{1} \\\\ &v = v_{1}, v_{2}, v_{3}  \\to \\begin{pmatrix}\n",
    "| & | & | \\\\\n",
    "v_{1} & v_{2} & v_{3} \\\\\n",
    "| & | & |\n",
    "\\end{pmatrix} \\begin{pmatrix}\n",
    "\\lambda_{1} & 0 & 0 \\\\\n",
    "0 & \\lambda_{1} & 0 \\\\\n",
    "0 & 0 & \\lambda_{1}\n",
    "\\end{pmatrix}\n",
    "\\begin{pmatrix}\n",
    "| & | & | \\\\\n",
    "v_{1} & v_{2} & v_{3} \\\\\n",
    "| & | & |\n",
    "\\end{pmatrix}^{-1}\n",
    "\\end{align*}$$"
   ]
  },
  {
   "cell_type": "markdown",
   "metadata": {},
   "source": [
    "# Задание 1"
   ]
  },
  {
   "cell_type": "markdown",
   "metadata": {},
   "source": [
    "$$\n",
    "\\begin{align*}\n",
    "&\\begin{cases}\n",
    "\\dot{x}_1 = ax_1 + bx_2 \\\\\n",
    "\\dot{x}_2 = cx_1 + dx_2\n",
    "\\end{cases} && \\begin{pmatrix}\n",
    "\\dot{x}_{1} \\\\\n",
    "\\dot{ x}_{2}\n",
    "\\end{pmatrix} = \\begin{pmatrix}\n",
    "a & b \\\\\n",
    "c & d\n",
    "\\end{pmatrix} \\begin{pmatrix}\n",
    "x_{1} \\\\\n",
    "x_{2}\n",
    "\\end{pmatrix} \\\\\n",
    "&\\text{Непрерывные} \\\\\n",
    "&x = e^{At}v_{0}\n",
    "\\end{align*}\n",
    "$$"
   ]
  },
  {
   "cell_type": "markdown",
   "metadata": {},
   "source": [
    "### Пункт 1"
   ]
  },
  {
   "cell_type": "markdown",
   "metadata": {},
   "source": [
    "$$\n",
    "\\begin{align*}\n",
    "x(t) = e^{At}x_{0}, && x(t) \\in \\text{Span}(x_{0}) \\to\n",
    "&& \\forall x: Ax = \\lambda x \\\\ \\\\\n",
    "\n",
    "& &A = \\begin{pmatrix}\n",
    "-1 & 0 \\\\\n",
    "0 & -1\n",
    "\\end{pmatrix}\n",
    "\\end{align*}\n",
    "$$"
   ]
  },
  {
   "cell_type": "code",
   "execution_count": 2,
   "metadata": {},
   "outputs": [
    {
     "data": {
      "text/html": [
       "<pre style=\"white-space:pre;overflow-x:auto;line-height:normal;font-family:Menlo,'DejaVu Sans Mono',consolas,'Courier New',monospace\">Manim Community <span style=\"color: #008000; text-decoration-color: #008000\">v0.18.1</span>\n",
       "\n",
       "</pre>\n"
      ],
      "text/plain": [
       "Manim Community \u001b[32mv0.\u001b[0m\u001b[32m18.1\u001b[0m\n",
       "\n"
      ]
     },
     "metadata": {},
     "output_type": "display_data"
    },
    {
     "name": "stderr",
     "output_type": "stream",
     "text": [
      "                                                                                   \r"
     ]
    },
    {
     "data": {
      "text/html": [
       "<video src=\"media\\jupyter\\VectorFieldScene@2024-12-23@11-44-32.mp4\" controls autoplay loop style=\"max-width: 75%;\"  >\n",
       "      Your browser does not support the <code>video</code> element.\n",
       "    </video>"
      ],
      "text/plain": [
       "<IPython.core.display.Video object>"
      ]
     },
     "metadata": {},
     "output_type": "display_data"
    }
   ],
   "source": [
    "%%manim -qm VectorFieldScene\n",
    "\n",
    "class VectorFieldScene(Scene):\n",
    "    def construct(self):\n",
    "\n",
    "        def vector_field_function(pos):\n",
    "            x, y = pos[:2]  \n",
    "            A = np.array([\n",
    "                [-1, 0], \n",
    "                [0, -1]\n",
    "            ])\n",
    "            x = A @ np.array([x, y])\n",
    "            return np.array([x[0], x[1], 0])\n",
    "\n",
    "        numplane = NumberPlane([-10,10],[-5,5])\n",
    "        stream_lines = StreamLines(vector_field_function, color=YELLOW, stroke_width=2, virtual_time=1)\n",
    "\n",
    "        self.add(numplane, stream_lines)\n",
    "        stream_lines.start_animation(warm_up=False, flow_speed=1.5, time_width=0.5)\n",
    "        self.wait(1)\n",
    "        self.play(stream_lines.end_animation())"
   ]
  },
  {
   "cell_type": "markdown",
   "metadata": {},
   "source": [
    "## Пункт 2"
   ]
  },
  {
   "cell_type": "markdown",
   "metadata": {},
   "source": [
    "$$\n",
    "\\begin{align*}\n",
    "&A = \\begin{pmatrix}\n",
    "1 & 1 \\\\\n",
    "0 & 1\n",
    "\\end{pmatrix} \\to v_{1} = \\begin{pmatrix}\n",
    "1 \\\\\n",
    "0\n",
    "\\end{pmatrix}, v_{11} = \\begin{pmatrix}\n",
    "1 \\\\\n",
    "1\n",
    "\\end{pmatrix} \\to \\forall i:v_{i} \\in \\text{Span}(v_{1})\\\\\n",
    "\\\\\n",
    "&v_{1} \\text{ - собственный}, v_{11} \\text{ - присоединённый}\n",
    "\\end{align*} \n",
    "$$"
   ]
  },
  {
   "cell_type": "code",
   "execution_count": 3,
   "metadata": {},
   "outputs": [
    {
     "data": {
      "text/html": [
       "<pre style=\"white-space:pre;overflow-x:auto;line-height:normal;font-family:Menlo,'DejaVu Sans Mono',consolas,'Courier New',monospace\">Manim Community <span style=\"color: #008000; text-decoration-color: #008000\">v0.18.1</span>\n",
       "\n",
       "</pre>\n"
      ],
      "text/plain": [
       "Manim Community \u001b[32mv0.\u001b[0m\u001b[32m18.1\u001b[0m\n",
       "\n"
      ]
     },
     "metadata": {},
     "output_type": "display_data"
    },
    {
     "name": "stderr",
     "output_type": "stream",
     "text": [
      "                                                                                   \r"
     ]
    },
    {
     "data": {
      "text/html": [
       "<video src=\"media\\jupyter\\VectorFieldScene@2024-12-23@11-44-43.mp4\" controls autoplay loop style=\"max-width: 75%;\"  >\n",
       "      Your browser does not support the <code>video</code> element.\n",
       "    </video>"
      ],
      "text/plain": [
       "<IPython.core.display.Video object>"
      ]
     },
     "metadata": {},
     "output_type": "display_data"
    }
   ],
   "source": [
    "%%manim -qm VectorFieldScene\n",
    "\n",
    "class VectorFieldScene(Scene):\n",
    "    def construct(self):\n",
    "\n",
    "        def vector_field_function(pos):\n",
    "            x, y = pos[:2]  \n",
    "            A = np.array([\n",
    "                [1, 1], \n",
    "                [0, 1]\n",
    "            ])\n",
    "            x = A @ np.array([x, y])\n",
    "            return np.array([x[0], x[1], 0])\n",
    "\n",
    "        numplane = NumberPlane([-10,10],[-5,5])\n",
    "        stream_lines = StreamLines(vector_field_function, color=YELLOW, stroke_width=3, virtual_time=1, max_anchors_per_line=5,)\n",
    "\n",
    "        self.add(numplane, stream_lines)\n",
    "        stream_lines.start_animation(warm_up=False, flow_speed=1.5, time_width=0.5)\n",
    "        self.wait(1)\n",
    "        self.play(stream_lines.end_animation())"
   ]
  },
  {
   "cell_type": "markdown",
   "metadata": {},
   "source": [
    "## Пункт 3"
   ]
  },
  {
   "cell_type": "markdown",
   "metadata": {},
   "source": [
    "$$\n",
    "\\begin{align*}\n",
    "&A = \\begin{pmatrix}\n",
    "-1 & 0 \\\\ \n",
    "0 & 1\n",
    "\\end{pmatrix} \\to \\lambda_{12} = \\pm 1 && \\lim_{ t \\to \\infty } x(t) = 0, \\text{при }x_{0} = v_1 = \\begin{pmatrix}\n",
    "a \\\\\n",
    "0\n",
    "\\end{pmatrix}\\\\\n",
    "&\\begin{pmatrix}\n",
    "x \\\\\n",
    "y\n",
    "\\end{pmatrix} = e^{-t}v_{1} + e^tv_{2} && \\lim_{ t \\to \\infty } (e^{-t}v_{1} + e^tv_{2}) = \\infty\n",
    "\\end{align*}\n",
    "$$"
   ]
  },
  {
   "cell_type": "code",
   "execution_count": 4,
   "metadata": {},
   "outputs": [
    {
     "data": {
      "text/html": [
       "<pre style=\"white-space:pre;overflow-x:auto;line-height:normal;font-family:Menlo,'DejaVu Sans Mono',consolas,'Courier New',monospace\">Manim Community <span style=\"color: #008000; text-decoration-color: #008000\">v0.18.1</span>\n",
       "\n",
       "</pre>\n"
      ],
      "text/plain": [
       "Manim Community \u001b[32mv0.\u001b[0m\u001b[32m18.1\u001b[0m\n",
       "\n"
      ]
     },
     "metadata": {},
     "output_type": "display_data"
    },
    {
     "name": "stderr",
     "output_type": "stream",
     "text": [
      "                                                                                   \r"
     ]
    },
    {
     "data": {
      "text/html": [
       "<video src=\"media\\jupyter\\VectorFieldScene@2024-12-23@11-44-52.mp4\" controls autoplay loop style=\"max-width: 75%;\"  >\n",
       "      Your browser does not support the <code>video</code> element.\n",
       "    </video>"
      ],
      "text/plain": [
       "<IPython.core.display.Video object>"
      ]
     },
     "metadata": {},
     "output_type": "display_data"
    }
   ],
   "source": [
    "%%manim -qm VectorFieldScene\n",
    "\n",
    "class VectorFieldScene(Scene):\n",
    "    def construct(self):\n",
    "\n",
    "        def vector_field_function(pos):\n",
    "            x, y = pos[:2]  \n",
    "            A = np.array([\n",
    "                [-1, 0], \n",
    "                [0, 1]\n",
    "            ])\n",
    "            x = A @ np.array([x, y])\n",
    "            return np.array([x[0], x[1], 0])\n",
    "\n",
    "        numplane = NumberPlane([-10,10],[-5,5])\n",
    "        stream_lines = StreamLines(vector_field_function, color=YELLOW, stroke_width=3, virtual_time=1, max_anchors_per_line=5,)\n",
    "\n",
    "        self.add(numplane, stream_lines)\n",
    "        stream_lines.start_animation(warm_up=False, flow_speed=1.5, time_width=0.5)\n",
    "        self.wait(1)\n",
    "        self.play(stream_lines.end_animation())"
   ]
  },
  {
   "cell_type": "markdown",
   "metadata": {},
   "source": [
    "## Пункт 4"
   ]
  },
  {
   "cell_type": "markdown",
   "metadata": {},
   "source": [
    "$$\n",
    "\\begin{align*}\n",
    "A = \\begin{pmatrix}\n",
    "-1 & -1 \\\\\n",
    "2 & -1\n",
    "\\end{pmatrix} \\to \\lambda_{12} = -1 \\pm i\\sqrt{ 2 } && v_{12} = \\begin{pmatrix}\n",
    "\\pm \\frac{i\\sqrt{ 2 }}{2} \\\\\n",
    "1\n",
    "\\end{pmatrix}\n",
    "\\end{align*}\n",
    "$$"
   ]
  },
  {
   "cell_type": "code",
   "execution_count": 5,
   "metadata": {},
   "outputs": [
    {
     "data": {
      "text/html": [
       "<pre style=\"white-space:pre;overflow-x:auto;line-height:normal;font-family:Menlo,'DejaVu Sans Mono',consolas,'Courier New',monospace\">Manim Community <span style=\"color: #008000; text-decoration-color: #008000\">v0.18.1</span>\n",
       "\n",
       "</pre>\n"
      ],
      "text/plain": [
       "Manim Community \u001b[32mv0.\u001b[0m\u001b[32m18.1\u001b[0m\n",
       "\n"
      ]
     },
     "metadata": {},
     "output_type": "display_data"
    },
    {
     "name": "stderr",
     "output_type": "stream",
     "text": [
      "                                                                                   \r"
     ]
    },
    {
     "data": {
      "text/html": [
       "<video src=\"media\\jupyter\\VectorFieldScene@2024-12-23@11-45-04.mp4\" controls autoplay loop style=\"max-width: 75%;\"  >\n",
       "      Your browser does not support the <code>video</code> element.\n",
       "    </video>"
      ],
      "text/plain": [
       "<IPython.core.display.Video object>"
      ]
     },
     "metadata": {},
     "output_type": "display_data"
    }
   ],
   "source": [
    "%%manim -qm VectorFieldScene\n",
    "\n",
    "class VectorFieldScene(Scene):\n",
    "    def construct(self):\n",
    "\n",
    "        def vector_field_function(pos):\n",
    "            x, y = pos[:2]  \n",
    "            A = np.array([\n",
    "                [-1, -1], \n",
    "                [2, -1]\n",
    "            ])\n",
    "            x = A @ np.array([x, y])\n",
    "            return np.array([x[0], x[1], 0])\n",
    "\n",
    "        numplane = NumberPlane([-10,10],[-5,5])\n",
    "        stream_lines = StreamLines(vector_field_function, color=YELLOW, stroke_width=3, virtual_time=1, max_anchors_per_line=5,)\n",
    "\n",
    "        self.add(numplane, stream_lines)\n",
    "        stream_lines.start_animation(warm_up=False, flow_speed=1.5, time_width=0.5)\n",
    "        self.wait(1)\n",
    "        self.play(stream_lines.end_animation())"
   ]
  },
  {
   "cell_type": "markdown",
   "metadata": {},
   "source": [
    "## Пункт 5"
   ]
  },
  {
   "cell_type": "markdown",
   "metadata": {},
   "source": [
    "$$\n",
    "\\begin{align*}\n",
    "A = \\begin{pmatrix}\n",
    "1 & -1 \\\\\n",
    "2 & 1\n",
    "\\end{pmatrix} \\to \\lambda_{12} = -1 \\pm i\\sqrt{ 2 } && v_{12} = \\begin{pmatrix}\n",
    "\\pm \\frac{i\\sqrt{ 2 }}{2} \\\\\n",
    "1\n",
    "\\end{pmatrix}\n",
    "\\end{align*}\n",
    "$$"
   ]
  },
  {
   "cell_type": "code",
   "execution_count": 6,
   "metadata": {},
   "outputs": [
    {
     "data": {
      "text/html": [
       "<pre style=\"white-space:pre;overflow-x:auto;line-height:normal;font-family:Menlo,'DejaVu Sans Mono',consolas,'Courier New',monospace\">Manim Community <span style=\"color: #008000; text-decoration-color: #008000\">v0.18.1</span>\n",
       "\n",
       "</pre>\n"
      ],
      "text/plain": [
       "Manim Community \u001b[32mv0.\u001b[0m\u001b[32m18.1\u001b[0m\n",
       "\n"
      ]
     },
     "metadata": {},
     "output_type": "display_data"
    },
    {
     "name": "stderr",
     "output_type": "stream",
     "text": [
      "                                                                                   \r"
     ]
    },
    {
     "data": {
      "text/html": [
       "<video src=\"media\\jupyter\\VectorFieldScene@2024-12-23@11-45-14.mp4\" controls autoplay loop style=\"max-width: 75%;\"  >\n",
       "      Your browser does not support the <code>video</code> element.\n",
       "    </video>"
      ],
      "text/plain": [
       "<IPython.core.display.Video object>"
      ]
     },
     "metadata": {},
     "output_type": "display_data"
    }
   ],
   "source": [
    "%%manim -qm VectorFieldScene\n",
    "\n",
    "class VectorFieldScene(Scene):\n",
    "    def construct(self):\n",
    "\n",
    "        def vector_field_function(pos):\n",
    "            x, y = pos[:2]  \n",
    "            A = np.array([\n",
    "                [1, -1], \n",
    "                [2, 1]\n",
    "            ])\n",
    "            x = A @ np.array([x, y])\n",
    "            return np.array([x[0], x[1], 0])\n",
    "\n",
    "        numplane = NumberPlane([-10,10],[-5,5])\n",
    "        stream_lines = StreamLines(vector_field_function, color=YELLOW, stroke_width=3, virtual_time=1, max_anchors_per_line=5,)\n",
    "\n",
    "        self.add(numplane, stream_lines)\n",
    "        stream_lines.start_animation(warm_up=False, flow_speed=1.5, time_width=0.5)\n",
    "        self.wait(1)\n",
    "        self.play(stream_lines.end_animation())"
   ]
  },
  {
   "cell_type": "markdown",
   "metadata": {},
   "source": [
    "## Пункт 6"
   ]
  },
  {
   "cell_type": "markdown",
   "metadata": {},
   "source": [
    "$$\n",
    "\\begin{align*}\n",
    "A = \\begin{pmatrix}\n",
    "0 & -1 \\\\\n",
    "2 & 0\n",
    "\\end{pmatrix} \\to \\lambda_{12} = \\pm i\\sqrt{ 2 } && v_{12} = \\begin{pmatrix}\n",
    "\\pm \\frac{i\\sqrt{ 2 }}{2} \\\\\n",
    "1\n",
    "\\end{pmatrix}\n",
    "\\end{align*}\n",
    "$$"
   ]
  },
  {
   "cell_type": "code",
   "execution_count": 7,
   "metadata": {},
   "outputs": [
    {
     "data": {
      "text/html": [
       "<pre style=\"white-space:pre;overflow-x:auto;line-height:normal;font-family:Menlo,'DejaVu Sans Mono',consolas,'Courier New',monospace\">Manim Community <span style=\"color: #008000; text-decoration-color: #008000\">v0.18.1</span>\n",
       "\n",
       "</pre>\n"
      ],
      "text/plain": [
       "Manim Community \u001b[32mv0.\u001b[0m\u001b[32m18.1\u001b[0m\n",
       "\n"
      ]
     },
     "metadata": {},
     "output_type": "display_data"
    },
    {
     "name": "stderr",
     "output_type": "stream",
     "text": [
      "                                                                                   \r"
     ]
    },
    {
     "data": {
      "text/html": [
       "<video src=\"media\\jupyter\\VectorFieldScene@2024-12-23@11-45-25.mp4\" controls autoplay loop style=\"max-width: 75%;\"  >\n",
       "      Your browser does not support the <code>video</code> element.\n",
       "    </video>"
      ],
      "text/plain": [
       "<IPython.core.display.Video object>"
      ]
     },
     "metadata": {},
     "output_type": "display_data"
    }
   ],
   "source": [
    "%%manim -qm VectorFieldScene\n",
    "\n",
    "class VectorFieldScene(Scene):\n",
    "    def construct(self):\n",
    "\n",
    "        def vector_field_function(pos):\n",
    "            x, y = pos[:2]  \n",
    "            A = np.array([\n",
    "                [0, -1], \n",
    "                [2, 0]\n",
    "            ])\n",
    "            x = A @ np.array([x, y])\n",
    "            return np.array([x[0], x[1], 0])\n",
    "\n",
    "        numplane = NumberPlane([-10,10],[-5,5])\n",
    "        stream_lines = StreamLines(vector_field_function, color=YELLOW, stroke_width=3, virtual_time=1, max_anchors_per_line=5)\n",
    "\n",
    "        self.add(numplane, stream_lines)\n",
    "        stream_lines.start_animation(warm_up=False, flow_speed=1.5, time_width=0.5)\n",
    "        self.wait(1)\n",
    "        self.play(stream_lines.end_animation())"
   ]
  },
  {
   "cell_type": "markdown",
   "metadata": {},
   "source": [
    "# Задание 2"
   ]
  },
  {
   "cell_type": "markdown",
   "metadata": {},
   "source": [
    "\\begin{align*}\n",
    "\\text{Дискретные} \\\\\n",
    "x = A^kx_{0}\n",
    "\\end{align*}"
   ]
  },
  {
   "cell_type": "markdown",
   "metadata": {},
   "source": [
    "## Пункт 1"
   ]
  },
  {
   "cell_type": "markdown",
   "metadata": {},
   "source": [
    "$$\n",
    "\\begin{align*}\n",
    "A = \\begin{pmatrix}\n",
    "-1 & 0 \\\\\n",
    "1 & -1\n",
    "\\end{pmatrix} && \\lambda = -1\n",
    "\\end{align*}\n",
    "$$"
   ]
  },
  {
   "cell_type": "code",
   "execution_count": 8,
   "metadata": {},
   "outputs": [
    {
     "data": {
      "text/html": [
       "<pre style=\"white-space:pre;overflow-x:auto;line-height:normal;font-family:Menlo,'DejaVu Sans Mono',consolas,'Courier New',monospace\">Manim Community <span style=\"color: #008000; text-decoration-color: #008000\">v0.18.1</span>\n",
       "\n",
       "</pre>\n"
      ],
      "text/plain": [
       "Manim Community \u001b[32mv0.\u001b[0m\u001b[32m18.1\u001b[0m\n",
       "\n"
      ]
     },
     "metadata": {},
     "output_type": "display_data"
    },
    {
     "name": "stderr",
     "output_type": "stream",
     "text": [
      "                                                                                 \r"
     ]
    },
    {
     "data": {
      "text/html": [
       "<video src=\"media\\jupyter\\VectorFieldScene@2024-12-23@11-45-32.mp4\" controls autoplay loop style=\"max-width: 75%;\"  >\n",
       "      Your browser does not support the <code>video</code> element.\n",
       "    </video>"
      ],
      "text/plain": [
       "<IPython.core.display.Video object>"
      ]
     },
     "metadata": {},
     "output_type": "display_data"
    }
   ],
   "source": [
    "%%manim -qm VectorFieldScene\n",
    "\n",
    "class VectorFieldScene(MovingCameraScene):\n",
    "    def construct(self):\n",
    "        def updater_func(mob, k):\n",
    "            for k in range(k):\n",
    "                x,y = mob.get_center()[:2]\n",
    "                A = np.array([\n",
    "                    [-1, 0],\n",
    "                    [1, -1]\n",
    "                ])\n",
    "                new = A @ np.array([x,y])\n",
    "                new_dot = Dot(color=mob.get_color()).move_to([new[0],new[1],0])\n",
    "                l = Line(mob, new_dot, color=mob.get_color())\n",
    "                self.add(new_dot, l)\n",
    "                self.play(Create(new_dot), Create(l))\n",
    "                mob = new_dot\n",
    "        numplane = NumberPlane(x_range=(-10, 10, 1), y_range=(-5,5,1))\n",
    "        self.camera.frame.scale(1.4)\n",
    "        dot1 = Dot(color=RED).shift(3*RIGHT)\n",
    "        dot2 = Dot(color=BLUE).shift(-3*UP - 2*RIGHT)\n",
    "        dot3 = Dot(color=GREEN).shift(2*UP)\n",
    "        dot4 = Dot(color=YELLOW).shift(-1*UP + 4*RIGHT)\n",
    "        self.add(numplane, dot1,dot2,dot3,dot4)\n",
    "        updater_func(dot1, 5)\n",
    "        updater_func(dot2, 5)\n",
    "        updater_func(dot3, 5)\n",
    "        updater_func(dot4, 5)\n"
   ]
  },
  {
   "cell_type": "markdown",
   "metadata": {},
   "source": [
    "## Пункт 2"
   ]
  },
  {
   "cell_type": "markdown",
   "metadata": {},
   "source": [
    "$$\n",
    "\\begin{align*}\n",
    "A = \\begin{pmatrix}\n",
    "-\\frac{\\sqrt{ 2}}{2} & -\\frac{\\sqrt{ 2}}{2} \\\\\n",
    "\\frac{\\sqrt{ 2}}{2}  & -\\frac{\\sqrt{ 2}}{2}\n",
    "\\end{pmatrix} && \\lambda = -\\frac{1}{\\sqrt{ 2 }} \\pm \\frac{i}{\\sqrt{ 2 }}\n",
    "\\end{align*}\n",
    "$$"
   ]
  },
  {
   "cell_type": "code",
   "execution_count": 9,
   "metadata": {},
   "outputs": [
    {
     "data": {
      "text/html": [
       "<pre style=\"white-space:pre;overflow-x:auto;line-height:normal;font-family:Menlo,'DejaVu Sans Mono',consolas,'Courier New',monospace\">Manim Community <span style=\"color: #008000; text-decoration-color: #008000\">v0.18.1</span>\n",
       "\n",
       "</pre>\n"
      ],
      "text/plain": [
       "Manim Community \u001b[32mv0.\u001b[0m\u001b[32m18.1\u001b[0m\n",
       "\n"
      ]
     },
     "metadata": {},
     "output_type": "display_data"
    },
    {
     "name": "stderr",
     "output_type": "stream",
     "text": [
      "                                                                                 \r"
     ]
    },
    {
     "data": {
      "text/html": [
       "<video src=\"media\\jupyter\\VectorFieldScene@2024-12-23@11-45-43.mp4\" controls autoplay loop style=\"max-width: 75%;\"  >\n",
       "      Your browser does not support the <code>video</code> element.\n",
       "    </video>"
      ],
      "text/plain": [
       "<IPython.core.display.Video object>"
      ]
     },
     "metadata": {},
     "output_type": "display_data"
    }
   ],
   "source": [
    "%%manim -qm VectorFieldScene\n",
    "\n",
    "class VectorFieldScene(MovingCameraScene):\n",
    "    def construct(self):\n",
    "        def updater_func(mob, k):\n",
    "            for k in range(k):\n",
    "                x,y = mob.get_center()[:2]\n",
    "                A = np.array([\n",
    "                    [-np.sqrt(2)/2, -np.sqrt(2)/2],\n",
    "                    [np.sqrt(2)/2, -np.sqrt(2)/2]\n",
    "                ])\n",
    "                new = A @ np.array([x,y])\n",
    "                new_dot = Dot(color=mob.get_color()).move_to([new[0],new[1],0])\n",
    "                l = Line(mob, new_dot, color=mob.get_color())\n",
    "                self.add(new_dot, l)\n",
    "                self.play(Create(new_dot), Create(l))\n",
    "                mob = new_dot\n",
    "        numplane = NumberPlane(x_range=(-10, 10, 1), y_range=(-5,5,1))\n",
    "        self.camera.frame.scale(1.4)\n",
    "        dot1 = Dot(color=RED).shift(3*RIGHT)\n",
    "        dot2 = Dot(color=BLUE).shift(-3*UP - 2*RIGHT)\n",
    "        dot3 = Dot(color=GREEN).shift(2*UP)\n",
    "        dot4 = Dot(color=YELLOW).shift(-1*UP + 4*RIGHT)\n",
    "        self.add(numplane, dot1,dot2,dot3,dot4)\n",
    "        updater_func(dot1, 8)\n",
    "        updater_func(dot2, 8)\n",
    "        updater_func(dot3, 8)\n",
    "        updater_func(dot4, 8)"
   ]
  },
  {
   "cell_type": "markdown",
   "metadata": {},
   "source": [
    "## Пункт 3"
   ]
  },
  {
   "cell_type": "markdown",
   "metadata": {},
   "source": [
    "$$\n",
    "\\begin{align}\n",
    "A = \\begin{pmatrix}\n",
    "0 & -1 \\\\\n",
    "1  & 0\n",
    "\\end{pmatrix} && \\lambda = \\pm i\n",
    "\\end{align}\n",
    "$$"
   ]
  },
  {
   "cell_type": "code",
   "execution_count": 10,
   "metadata": {},
   "outputs": [
    {
     "data": {
      "text/html": [
       "<pre style=\"white-space:pre;overflow-x:auto;line-height:normal;font-family:Menlo,'DejaVu Sans Mono',consolas,'Courier New',monospace\">Manim Community <span style=\"color: #008000; text-decoration-color: #008000\">v0.18.1</span>\n",
       "\n",
       "</pre>\n"
      ],
      "text/plain": [
       "Manim Community \u001b[32mv0.\u001b[0m\u001b[32m18.1\u001b[0m\n",
       "\n"
      ]
     },
     "metadata": {},
     "output_type": "display_data"
    },
    {
     "name": "stderr",
     "output_type": "stream",
     "text": [
      "                                                                                 \r"
     ]
    },
    {
     "data": {
      "text/html": [
       "<video src=\"media\\jupyter\\VectorFieldScene@2024-12-23@11-45-49.mp4\" controls autoplay loop style=\"max-width: 75%;\"  >\n",
       "      Your browser does not support the <code>video</code> element.\n",
       "    </video>"
      ],
      "text/plain": [
       "<IPython.core.display.Video object>"
      ]
     },
     "metadata": {},
     "output_type": "display_data"
    }
   ],
   "source": [
    "%%manim -qm VectorFieldScene\n",
    "\n",
    "class VectorFieldScene(MovingCameraScene):\n",
    "    def construct(self):\n",
    "        def updater_func(mob, k):\n",
    "            for k in range(k):\n",
    "                x,y = mob.get_center()[:2]\n",
    "                A = np.array([\n",
    "                    [0, -1],\n",
    "                    [1, 0]\n",
    "                ])\n",
    "                new = A @ np.array([x,y])\n",
    "                new_dot = Dot(color=mob.get_color()).move_to([new[0],new[1],0])\n",
    "                l = Line(mob, new_dot, color=mob.get_color())\n",
    "                self.add(new_dot, l)\n",
    "                self.play(Create(new_dot), Create(l))\n",
    "                mob = new_dot\n",
    "        numplane = NumberPlane(x_range=(-10, 10, 1), y_range=(-5,5,1))\n",
    "        self.camera.frame.scale(1.4)\n",
    "        dot1 = Dot(color=RED).shift(3*RIGHT)\n",
    "        dot2 = Dot(color=BLUE).shift(-3*UP - 2*RIGHT)\n",
    "        dot3 = Dot(color=GREEN).shift(2*UP)\n",
    "        dot4 = Dot(color=YELLOW).shift(-1*UP + 4*RIGHT)\n",
    "        self.add(numplane, dot1,dot2,dot3,dot4)\n",
    "        updater_func(dot1, 4)\n",
    "        updater_func(dot2, 4)\n",
    "        updater_func(dot3, 4)\n",
    "        updater_func(dot4, 4)"
   ]
  },
  {
   "cell_type": "markdown",
   "metadata": {},
   "source": [
    "## Пункт 4"
   ]
  },
  {
   "cell_type": "markdown",
   "metadata": {},
   "source": [
    "$$\n",
    "\n",
    "\\begin{align}\n",
    "\n",
    "A = \\begin{pmatrix}\n",
    "\n",
    "\\frac{\\sqrt{ 2}}{2} & -\\frac{\\sqrt{ 2}}{2} \\\\\n",
    "\n",
    "\\frac{\\sqrt{ 2}}{2}  & \\frac{\\sqrt{ 2}}{2}\n",
    "\n",
    "\\end{pmatrix} && \\lambda = \\frac{1}{\\sqrt{ 2 }} \\pm \\frac{i}{\\sqrt{ 2 }}\n",
    "\n",
    "\\end{align}\n",
    "\n",
    "$$"
   ]
  },
  {
   "cell_type": "code",
   "execution_count": 11,
   "metadata": {},
   "outputs": [
    {
     "data": {
      "text/html": [
       "<pre style=\"white-space:pre;overflow-x:auto;line-height:normal;font-family:Menlo,'DejaVu Sans Mono',consolas,'Courier New',monospace\">Manim Community <span style=\"color: #008000; text-decoration-color: #008000\">v0.18.1</span>\n",
       "\n",
       "</pre>\n"
      ],
      "text/plain": [
       "Manim Community \u001b[32mv0.\u001b[0m\u001b[32m18.1\u001b[0m\n",
       "\n"
      ]
     },
     "metadata": {},
     "output_type": "display_data"
    },
    {
     "name": "stderr",
     "output_type": "stream",
     "text": [
      "                                                                                 \r"
     ]
    },
    {
     "data": {
      "text/html": [
       "<video src=\"media\\jupyter\\VectorFieldScene@2024-12-23@11-45-59.mp4\" controls autoplay loop style=\"max-width: 75%;\"  >\n",
       "      Your browser does not support the <code>video</code> element.\n",
       "    </video>"
      ],
      "text/plain": [
       "<IPython.core.display.Video object>"
      ]
     },
     "metadata": {},
     "output_type": "display_data"
    }
   ],
   "source": [
    "%%manim -qm VectorFieldScene\n",
    "\n",
    "class VectorFieldScene(MovingCameraScene):\n",
    "    def construct(self):\n",
    "        def updater_func(mob, k):\n",
    "            for k in range(k):\n",
    "                x,y = mob.get_center()[:2]\n",
    "                A = np.array([\n",
    "                    [np.sqrt(2)/2, -np.sqrt(2)/2],\n",
    "                    [np.sqrt(2)/2, np.sqrt(2)/2]\n",
    "                ])\n",
    "                new = A @ np.array([x,y])\n",
    "                new_dot = Dot(color=mob.get_color()).move_to([new[0],new[1],0])\n",
    "                l = Line(mob, new_dot, color=mob.get_color())\n",
    "                self.add(new_dot, l)\n",
    "                self.play(Create(new_dot), Create(l))\n",
    "                mob = new_dot\n",
    "        numplane = NumberPlane(x_range=(-10, 10, 1), y_range=(-5,5,1))\n",
    "        self.camera.frame.scale(1.4)\n",
    "        dot1 = Dot(color=RED).shift(3*RIGHT)\n",
    "        dot2 = Dot(color=BLUE).shift(-3*UP - 2*RIGHT)\n",
    "        dot3 = Dot(color=GREEN).shift(2*UP)\n",
    "        dot4 = Dot(color=YELLOW).shift(-1*UP + 4*RIGHT)\n",
    "        self.add(numplane, dot1,dot2,dot3,dot4)\n",
    "        updater_func(dot1, 8)\n",
    "        updater_func(dot2, 8)\n",
    "        updater_func(dot3, 8)\n",
    "        updater_func(dot4, 8)"
   ]
  },
  {
   "cell_type": "markdown",
   "metadata": {},
   "source": [
    "## Пункт 5"
   ]
  },
  {
   "cell_type": "markdown",
   "metadata": {},
   "source": [
    "$$\n",
    "\\begin{align}\n",
    "A = \\begin{pmatrix}\n",
    "1 & 0 \\\\\n",
    "1 & 1\n",
    "\\end{pmatrix} && \\lambda = 1\n",
    "\\end{align}\n",
    "$$"
   ]
  },
  {
   "cell_type": "code",
   "execution_count": 12,
   "metadata": {},
   "outputs": [
    {
     "data": {
      "text/html": [
       "<pre style=\"white-space:pre;overflow-x:auto;line-height:normal;font-family:Menlo,'DejaVu Sans Mono',consolas,'Courier New',monospace\">Manim Community <span style=\"color: #008000; text-decoration-color: #008000\">v0.18.1</span>\n",
       "\n",
       "</pre>\n"
      ],
      "text/plain": [
       "Manim Community \u001b[32mv0.\u001b[0m\u001b[32m18.1\u001b[0m\n",
       "\n"
      ]
     },
     "metadata": {},
     "output_type": "display_data"
    },
    {
     "name": "stderr",
     "output_type": "stream",
     "text": [
      "                                                                                 \r"
     ]
    },
    {
     "data": {
      "text/html": [
       "<video src=\"media\\jupyter\\VectorFieldScene@2024-12-23@11-46-11.mp4\" controls autoplay loop style=\"max-width: 75%;\"  >\n",
       "      Your browser does not support the <code>video</code> element.\n",
       "    </video>"
      ],
      "text/plain": [
       "<IPython.core.display.Video object>"
      ]
     },
     "metadata": {},
     "output_type": "display_data"
    }
   ],
   "source": [
    "%%manim -qm VectorFieldScene\n",
    "\n",
    "class VectorFieldScene(MovingCameraScene):\n",
    "    def construct(self):\n",
    "        def updater_func(mob, k):\n",
    "            for k in range(k):\n",
    "                x,y = mob.get_center()[:2]\n",
    "                A = np.array([\n",
    "                    [1, 0],\n",
    "                    [1, 1]\n",
    "                ])\n",
    "                new = A @ np.array([x,y])\n",
    "                new_dot = Dot(color=mob.get_color()).move_to([new[0],new[1],0])\n",
    "                l = Line(mob, new_dot, color=mob.get_color())\n",
    "                self.add(new_dot, l)\n",
    "                self.play(Create(new_dot), Create(l))\n",
    "                mob = new_dot\n",
    "        numplane = NumberPlane(x_range=(-10, 10, 1), y_range=(-5,5,1))\n",
    "        self.camera.frame.scale(1.4)\n",
    "        dot1 = Dot(color=RED).shift(3*RIGHT)\n",
    "        dot2 = Dot(color=BLUE).shift(-3*UP - 2*RIGHT)\n",
    "        dot3 = Dot(color=GREEN).shift(2*UP)\n",
    "        dot4 = Dot(color=YELLOW).shift(-1*UP + 4*RIGHT)\n",
    "        self.add(numplane, dot1,dot2,dot3,dot4)\n",
    "        updater_func(dot1, 8)\n",
    "        updater_func(dot2, 8)\n",
    "        updater_func(dot3, 8)\n",
    "        updater_func(dot4, 8)"
   ]
  },
  {
   "cell_type": "markdown",
   "metadata": {},
   "source": [
    "## Пункт 6"
   ]
  },
  {
   "cell_type": "markdown",
   "metadata": {},
   "source": [
    "$$\n",
    "\\begin{align}\n",
    "A = 0.5 \\cdot \\begin{pmatrix}\n",
    "-1 & 0 \\\\\n",
    "1 & -1\n",
    "\\end{pmatrix} && \\lambda = -0.5\n",
    "\\end{align}\n",
    "$$"
   ]
  },
  {
   "cell_type": "code",
   "execution_count": 13,
   "metadata": {},
   "outputs": [
    {
     "data": {
      "text/html": [
       "<pre style=\"white-space:pre;overflow-x:auto;line-height:normal;font-family:Menlo,'DejaVu Sans Mono',consolas,'Courier New',monospace\">Manim Community <span style=\"color: #008000; text-decoration-color: #008000\">v0.18.1</span>\n",
       "\n",
       "</pre>\n"
      ],
      "text/plain": [
       "Manim Community \u001b[32mv0.\u001b[0m\u001b[32m18.1\u001b[0m\n",
       "\n"
      ]
     },
     "metadata": {},
     "output_type": "display_data"
    },
    {
     "name": "stderr",
     "output_type": "stream",
     "text": [
      "                                                                                 \r"
     ]
    },
    {
     "data": {
      "text/html": [
       "<video src=\"media\\jupyter\\VectorFieldScene@2024-12-23@11-46-18.mp4\" controls autoplay loop style=\"max-width: 75%;\"  >\n",
       "      Your browser does not support the <code>video</code> element.\n",
       "    </video>"
      ],
      "text/plain": [
       "<IPython.core.display.Video object>"
      ]
     },
     "metadata": {},
     "output_type": "display_data"
    }
   ],
   "source": [
    "%%manim -qm VectorFieldScene\n",
    "\n",
    "class VectorFieldScene(MovingCameraScene):\n",
    "    def construct(self):\n",
    "        def updater_func(mob, k):\n",
    "            for k in range(k):\n",
    "                x,y = mob.get_center()[:2]\n",
    "                A = np.array([\n",
    "                    [-1, 0],\n",
    "                    [1, -1]\n",
    "                ]) * 0.5\n",
    "                new = A @ np.array([x,y])\n",
    "                new_dot = Dot(color=mob.get_color()).move_to([new[0],new[1],0])\n",
    "                l = Line(mob, new_dot, color=mob.get_color())\n",
    "                self.add(new_dot, l)\n",
    "                self.play(Create(new_dot), Create(l))\n",
    "                mob = new_dot\n",
    "        numplane = NumberPlane(x_range=(-10, 10, 1), y_range=(-5,5,1))\n",
    "        self.camera.frame.scale(1.4)\n",
    "        dot1 = Dot(color=RED).shift(3*RIGHT)\n",
    "        dot2 = Dot(color=BLUE).shift(-3*UP - 2*RIGHT)\n",
    "        dot3 = Dot(color=GREEN).shift(2*UP)\n",
    "        dot4 = Dot(color=YELLOW).shift(-1*UP + 4*RIGHT)\n",
    "        self.add(numplane, dot1,dot2,dot3,dot4)\n",
    "        updater_func(dot1, 5)\n",
    "        updater_func(dot2, 5)\n",
    "        updater_func(dot3, 5)\n",
    "        updater_func(dot4, 5)"
   ]
  },
  {
   "cell_type": "markdown",
   "metadata": {},
   "source": [
    "## Пункт 7"
   ]
  },
  {
   "cell_type": "markdown",
   "metadata": {},
   "source": [
    "$$\n",
    "\\begin{align}\n",
    "A = 0.5 \\cdot \\begin{pmatrix}\n",
    "0 & -1 \\\\\n",
    "1  & 0\n",
    "\\end{pmatrix} && \\lambda = \\pm 0.5i\n",
    "\\end{align}\n",
    "$$"
   ]
  },
  {
   "cell_type": "code",
   "execution_count": 14,
   "metadata": {},
   "outputs": [
    {
     "data": {
      "text/html": [
       "<pre style=\"white-space:pre;overflow-x:auto;line-height:normal;font-family:Menlo,'DejaVu Sans Mono',consolas,'Courier New',monospace\">Manim Community <span style=\"color: #008000; text-decoration-color: #008000\">v0.18.1</span>\n",
       "\n",
       "</pre>\n"
      ],
      "text/plain": [
       "Manim Community \u001b[32mv0.\u001b[0m\u001b[32m18.1\u001b[0m\n",
       "\n"
      ]
     },
     "metadata": {},
     "output_type": "display_data"
    },
    {
     "name": "stderr",
     "output_type": "stream",
     "text": [
      "                                                                                 \r"
     ]
    },
    {
     "data": {
      "text/html": [
       "<video src=\"media\\jupyter\\VectorFieldScene@2024-12-23@11-46-25.mp4\" controls autoplay loop style=\"max-width: 75%;\"  >\n",
       "      Your browser does not support the <code>video</code> element.\n",
       "    </video>"
      ],
      "text/plain": [
       "<IPython.core.display.Video object>"
      ]
     },
     "metadata": {},
     "output_type": "display_data"
    }
   ],
   "source": [
    "%%manim -qm VectorFieldScene\n",
    "\n",
    "class VectorFieldScene(MovingCameraScene):\n",
    "    def construct(self):\n",
    "        def updater_func(mob, k):\n",
    "            for k in range(k):\n",
    "                x,y = mob.get_center()[:2]\n",
    "                A = np.array([\n",
    "                    [0, -1],\n",
    "                    [1, 0]\n",
    "                ])*0.5\n",
    "                new = A @ np.array([x,y])\n",
    "                new_dot = Dot(color=mob.get_color()).move_to([new[0],new[1],0])\n",
    "                l = Line(mob, new_dot, color=mob.get_color())\n",
    "                self.add(new_dot, l)\n",
    "                self.play(Create(new_dot), Create(l))\n",
    "                mob = new_dot\n",
    "        numplane = NumberPlane(x_range=(-10, 10, 1), y_range=(-5,5,1))\n",
    "        self.camera.frame.scale(1.4)\n",
    "        dot1 = Dot(color=RED).shift(3*RIGHT)\n",
    "        dot2 = Dot(color=BLUE).shift(-3*UP - 2*RIGHT)\n",
    "        dot3 = Dot(color=GREEN).shift(2*UP)\n",
    "        dot4 = Dot(color=YELLOW).shift(-1*UP + 4*RIGHT)\n",
    "        self.add(numplane, dot1,dot2,dot3,dot4)\n",
    "        updater_func(dot1, 5)\n",
    "        updater_func(dot2, 5)\n",
    "        updater_func(dot3, 5)\n",
    "        updater_func(dot4, 5)"
   ]
  },
  {
   "cell_type": "markdown",
   "metadata": {},
   "source": [
    "## Пункт 8"
   ]
  },
  {
   "cell_type": "markdown",
   "metadata": {},
   "source": [
    "$$\n",
    "\\begin{align}\n",
    "A = 0.5 \\cdot \\begin{pmatrix}\n",
    "1 & 0 \\\\\n",
    "1 & 1\n",
    "\\end{pmatrix} && \\lambda = 0.5\n",
    "\\end{align}\n",
    "$$"
   ]
  },
  {
   "cell_type": "code",
   "execution_count": 15,
   "metadata": {},
   "outputs": [
    {
     "data": {
      "text/html": [
       "<pre style=\"white-space:pre;overflow-x:auto;line-height:normal;font-family:Menlo,'DejaVu Sans Mono',consolas,'Courier New',monospace\">Manim Community <span style=\"color: #008000; text-decoration-color: #008000\">v0.18.1</span>\n",
       "\n",
       "</pre>\n"
      ],
      "text/plain": [
       "Manim Community \u001b[32mv0.\u001b[0m\u001b[32m18.1\u001b[0m\n",
       "\n"
      ]
     },
     "metadata": {},
     "output_type": "display_data"
    },
    {
     "name": "stderr",
     "output_type": "stream",
     "text": [
      "                                                                                 \r"
     ]
    },
    {
     "data": {
      "text/html": [
       "<video src=\"media\\jupyter\\VectorFieldScene@2024-12-23@11-46-36.mp4\" controls autoplay loop style=\"max-width: 75%;\"  >\n",
       "      Your browser does not support the <code>video</code> element.\n",
       "    </video>"
      ],
      "text/plain": [
       "<IPython.core.display.Video object>"
      ]
     },
     "metadata": {},
     "output_type": "display_data"
    }
   ],
   "source": [
    "%%manim -qm VectorFieldScene\n",
    "\n",
    "class VectorFieldScene(MovingCameraScene):\n",
    "    def construct(self):\n",
    "        def updater_func(mob, k):\n",
    "            for k in range(k):\n",
    "                x,y = mob.get_center()[:2]\n",
    "                A = np.array([\n",
    "                    [1, 0],\n",
    "                    [1, 1]\n",
    "                ]) * 0.5\n",
    "                new = A @ np.array([x,y])\n",
    "                new_dot = Dot(color=mob.get_color()).move_to([new[0],new[1],0])\n",
    "                l = Line(mob, new_dot, color=mob.get_color())\n",
    "                self.add(new_dot, l)\n",
    "                self.play(Create(new_dot), Create(l))\n",
    "                mob = new_dot\n",
    "        numplane = NumberPlane(x_range=(-10, 10, 1), y_range=(-5,5,1))\n",
    "        self.camera.frame.scale(1.4)\n",
    "        dot1 = Dot(color=RED).shift(3*RIGHT)\n",
    "        dot2 = Dot(color=BLUE).shift(-3*UP - 2*RIGHT)\n",
    "        dot3 = Dot(color=GREEN).shift(2*UP)\n",
    "        dot4 = Dot(color=YELLOW).shift(-1*UP + 4*RIGHT)\n",
    "        self.add(numplane, dot1,dot2,dot3,dot4) \n",
    "        updater_func(dot1, 8)\n",
    "        updater_func(dot2, 8)\n",
    "        updater_func(dot3, 8)\n",
    "        updater_func(dot4, 8)"
   ]
  },
  {
   "cell_type": "markdown",
   "metadata": {},
   "source": [
    "## Пункт 9"
   ]
  },
  {
   "cell_type": "markdown",
   "metadata": {},
   "source": [
    "$$\n",
    "\\begin{align}\n",
    "A = 1.5 \\cdot \\begin{pmatrix}\n",
    "-1 & 0 \\\\\n",
    "1 & -1\n",
    "\\end{pmatrix} && \\lambda = -1.5\n",
    "\\end{align}\n",
    "$$"
   ]
  },
  {
   "cell_type": "code",
   "execution_count": 16,
   "metadata": {},
   "outputs": [
    {
     "data": {
      "text/html": [
       "<pre style=\"white-space:pre;overflow-x:auto;line-height:normal;font-family:Menlo,'DejaVu Sans Mono',consolas,'Courier New',monospace\">Manim Community <span style=\"color: #008000; text-decoration-color: #008000\">v0.18.1</span>\n",
       "\n",
       "</pre>\n"
      ],
      "text/plain": [
       "Manim Community \u001b[32mv0.\u001b[0m\u001b[32m18.1\u001b[0m\n",
       "\n"
      ]
     },
     "metadata": {},
     "output_type": "display_data"
    },
    {
     "name": "stderr",
     "output_type": "stream",
     "text": [
      "                                                                                 \r"
     ]
    },
    {
     "data": {
      "text/html": [
       "<video src=\"media\\jupyter\\VectorFieldScene@2024-12-23@11-46-43.mp4\" controls autoplay loop style=\"max-width: 75%;\"  >\n",
       "      Your browser does not support the <code>video</code> element.\n",
       "    </video>"
      ],
      "text/plain": [
       "<IPython.core.display.Video object>"
      ]
     },
     "metadata": {},
     "output_type": "display_data"
    }
   ],
   "source": [
    "%%manim -qm VectorFieldScene\n",
    "\n",
    "class VectorFieldScene(MovingCameraScene):\n",
    "    def construct(self):\n",
    "        def updater_func(mob, k):\n",
    "            for k in range(k):\n",
    "                x,y = mob.get_center()[:2]\n",
    "                A = np.array([\n",
    "                    [-1, 0],\n",
    "                    [1, -1]\n",
    "                ]) * 1.5\n",
    "                new = A @ np.array([x,y])\n",
    "                new_dot = Dot(color=mob.get_color()).move_to([new[0],new[1],0])\n",
    "                l = Line(mob, new_dot, color=mob.get_color())\n",
    "                self.add(new_dot, l)\n",
    "                self.play(Create(new_dot), Create(l))\n",
    "                mob = new_dot\n",
    "        numplane = NumberPlane(x_range=(-10, 10, 1), y_range=(-5,5,1))\n",
    "        self.camera.frame.scale(1.4)\n",
    "        dot1 = Dot(color=RED).shift(3*RIGHT)\n",
    "        dot2 = Dot(color=BLUE).shift(-3*UP - 2*RIGHT)\n",
    "        dot3 = Dot(color=GREEN).shift(2*UP)\n",
    "        dot4 = Dot(color=YELLOW).shift(-1*UP + 4*RIGHT)\n",
    "        self.add(numplane, dot1,dot2,dot3,dot4)\n",
    "        updater_func(dot1, 5)\n",
    "        updater_func(dot2, 5)\n",
    "        updater_func(dot3, 5)\n",
    "        updater_func(dot4, 5)"
   ]
  },
  {
   "cell_type": "markdown",
   "metadata": {},
   "source": [
    "## Пункт 10"
   ]
  },
  {
   "cell_type": "markdown",
   "metadata": {},
   "source": [
    "$$\n",
    "\\begin{align}\n",
    "A = 1.5 \\cdot \\begin{pmatrix}\n",
    "0 & -1 \\\\\n",
    "1  & 0\n",
    "\\end{pmatrix} && \\lambda = \\pm 1.5i\n",
    "\\end{align}\n",
    "$$"
   ]
  },
  {
   "cell_type": "code",
   "execution_count": 17,
   "metadata": {},
   "outputs": [
    {
     "data": {
      "text/html": [
       "<pre style=\"white-space:pre;overflow-x:auto;line-height:normal;font-family:Menlo,'DejaVu Sans Mono',consolas,'Courier New',monospace\">Manim Community <span style=\"color: #008000; text-decoration-color: #008000\">v0.18.1</span>\n",
       "\n",
       "</pre>\n"
      ],
      "text/plain": [
       "Manim Community \u001b[32mv0.\u001b[0m\u001b[32m18.1\u001b[0m\n",
       "\n"
      ]
     },
     "metadata": {},
     "output_type": "display_data"
    },
    {
     "name": "stderr",
     "output_type": "stream",
     "text": [
      "                                                                                 \r"
     ]
    },
    {
     "data": {
      "text/html": [
       "<video src=\"media\\jupyter\\VectorFieldScene@2024-12-23@11-46-49.mp4\" controls autoplay loop style=\"max-width: 75%;\"  >\n",
       "      Your browser does not support the <code>video</code> element.\n",
       "    </video>"
      ],
      "text/plain": [
       "<IPython.core.display.Video object>"
      ]
     },
     "metadata": {},
     "output_type": "display_data"
    }
   ],
   "source": [
    "%%manim -qm VectorFieldScene\n",
    "\n",
    "class VectorFieldScene(MovingCameraScene):\n",
    "    def construct(self):\n",
    "        def updater_func(mob, k):\n",
    "            for k in range(k):\n",
    "                x,y = mob.get_center()[:2]\n",
    "                A = np.array([\n",
    "                    [0, -1],\n",
    "                    [1, 0]\n",
    "                ])*1.5\n",
    "                new = A @ np.array([x,y])\n",
    "                new_dot = Dot(color=mob.get_color()).move_to([new[0],new[1],0])\n",
    "                l = Line(mob, new_dot, color=mob.get_color())\n",
    "                self.add(new_dot, l)\n",
    "                self.play(Create(new_dot), Create(l))\n",
    "                mob = new_dot\n",
    "        numplane = NumberPlane(x_range=(-10, 10, 1), y_range=(-5,5,1))\n",
    "        self.camera.frame.scale(1.4)\n",
    "        dot1 = Dot(color=RED).shift(3*RIGHT)\n",
    "        dot2 = Dot(color=BLUE).shift(-3*UP - 2*RIGHT)\n",
    "        dot3 = Dot(color=GREEN).shift(2*UP)\n",
    "        dot4 = Dot(color=YELLOW).shift(-1*UP + 4*RIGHT)\n",
    "        self.add(numplane, dot1,dot2,dot3,dot4)\n",
    "        updater_func(dot1, 5)\n",
    "        updater_func(dot2, 5)\n",
    "        updater_func(dot3, 5)\n",
    "        updater_func(dot4, 5)"
   ]
  },
  {
   "cell_type": "markdown",
   "metadata": {},
   "source": [
    "## Пункт 11"
   ]
  },
  {
   "cell_type": "markdown",
   "metadata": {},
   "source": [
    "$$\n",
    "\\begin{align}\n",
    "A = 0.5 \\cdot \\begin{pmatrix}\n",
    "1 & 0 \\\\\n",
    "1 & 1\n",
    "\\end{pmatrix} && \\lambda = 1.5\n",
    "\\end{align}\n",
    "$$"
   ]
  },
  {
   "cell_type": "code",
   "execution_count": 18,
   "metadata": {},
   "outputs": [
    {
     "data": {
      "text/html": [
       "<pre style=\"white-space:pre;overflow-x:auto;line-height:normal;font-family:Menlo,'DejaVu Sans Mono',consolas,'Courier New',monospace\">Manim Community <span style=\"color: #008000; text-decoration-color: #008000\">v0.18.1</span>\n",
       "\n",
       "</pre>\n"
      ],
      "text/plain": [
       "Manim Community \u001b[32mv0.\u001b[0m\u001b[32m18.1\u001b[0m\n",
       "\n"
      ]
     },
     "metadata": {},
     "output_type": "display_data"
    },
    {
     "name": "stderr",
     "output_type": "stream",
     "text": [
      "                                                                                 \r"
     ]
    },
    {
     "data": {
      "text/html": [
       "<video src=\"media\\jupyter\\VectorFieldScene@2024-12-23@11-46-56.mp4\" controls autoplay loop style=\"max-width: 75%;\"  >\n",
       "      Your browser does not support the <code>video</code> element.\n",
       "    </video>"
      ],
      "text/plain": [
       "<IPython.core.display.Video object>"
      ]
     },
     "metadata": {},
     "output_type": "display_data"
    }
   ],
   "source": [
    "%%manim -qm VectorFieldScene\n",
    "\n",
    "class VectorFieldScene(MovingCameraScene):\n",
    "    def construct(self):\n",
    "        def updater_func(mob, k):\n",
    "            for k in range(k):\n",
    "                x,y = mob.get_center()[:2]\n",
    "                A = np.array([\n",
    "                    [1, 0],\n",
    "                    [1, 1]\n",
    "                ]) * 1.5\n",
    "                new = A @ np.array([x,y])\n",
    "                new_dot = Dot(color=mob.get_color()).move_to([new[0],new[1],0])\n",
    "                l = Line(mob, new_dot, color=mob.get_color())\n",
    "                self.add(new_dot, l)\n",
    "                self.play(Create(new_dot), Create(l))\n",
    "                mob = new_dot\n",
    "        numplane = NumberPlane(x_range=(-10, 10, 1), y_range=(-5,5,1))\n",
    "        self.camera.frame.scale(1.4)\n",
    "        dot1 = Dot(color=RED).shift(3*RIGHT)\n",
    "        dot2 = Dot(color=BLUE).shift(-3*UP - 2*RIGHT)\n",
    "        dot3 = Dot(color=GREEN).shift(2*UP)\n",
    "        dot4 = Dot(color=YELLOW).shift(-1*UP + 4*RIGHT)\n",
    "        self.add(numplane, dot1,dot2,dot3,dot4) \n",
    "        updater_func(dot1, 5)\n",
    "        updater_func(dot2, 5)\n",
    "        updater_func(dot3, 5)\n",
    "        updater_func(dot4, 5)"
   ]
  },
  {
   "cell_type": "markdown",
   "metadata": {},
   "source": [
    "## Пункт 12"
   ]
  },
  {
   "cell_type": "markdown",
   "metadata": {},
   "source": [
    "$$\n",
    "\\begin{align}\n",
    "A =  \\begin{pmatrix}\n",
    "0 & 0 \\\\\n",
    "1 & 0\n",
    "\\end{pmatrix} && \\lambda = 0\n",
    "\\end{align}\n",
    "$$"
   ]
  },
  {
   "cell_type": "code",
   "execution_count": 19,
   "metadata": {},
   "outputs": [
    {
     "data": {
      "text/html": [
       "<pre style=\"white-space:pre;overflow-x:auto;line-height:normal;font-family:Menlo,'DejaVu Sans Mono',consolas,'Courier New',monospace\">Manim Community <span style=\"color: #008000; text-decoration-color: #008000\">v0.18.1</span>\n",
       "\n",
       "</pre>\n"
      ],
      "text/plain": [
       "Manim Community \u001b[32mv0.\u001b[0m\u001b[32m18.1\u001b[0m\n",
       "\n"
      ]
     },
     "metadata": {},
     "output_type": "display_data"
    },
    {
     "name": "stderr",
     "output_type": "stream",
     "text": [
      "                                                                                 \r"
     ]
    },
    {
     "data": {
      "text/html": [
       "<video src=\"media\\jupyter\\VectorFieldScene@2024-12-23@11-47-07.mp4\" controls autoplay loop style=\"max-width: 75%;\"  >\n",
       "      Your browser does not support the <code>video</code> element.\n",
       "    </video>"
      ],
      "text/plain": [
       "<IPython.core.display.Video object>"
      ]
     },
     "metadata": {},
     "output_type": "display_data"
    }
   ],
   "source": [
    "%%manim -qm VectorFieldScene\n",
    "\n",
    "class VectorFieldScene(MovingCameraScene):\n",
    "    def construct(self):\n",
    "        def updater_func(mob, k):\n",
    "            for k in range(k):\n",
    "                x,y = mob.get_center()[:2]\n",
    "                A = np.array([\n",
    "                    [0, 0],\n",
    "                    [1, 0]\n",
    "                ])\n",
    "                new = A @ np.array([x,y])\n",
    "                new_dot = Dot(color=mob.get_color()).move_to([new[0],new[1],0])\n",
    "                l = Line(mob, new_dot, color=mob.get_color())\n",
    "                self.add(new_dot, l)\n",
    "                self.play(Create(new_dot), Create(l))\n",
    "                mob = new_dot\n",
    "        numplane = NumberPlane(x_range=(-10, 10, 1), y_range=(-5,5,1))\n",
    "        self.camera.frame.scale(1.4)\n",
    "        dot1 = Dot(color=RED).shift(3*RIGHT)\n",
    "        dot2 = Dot(color=BLUE).shift(-3*UP - 2*RIGHT)\n",
    "        dot3 = Dot(color=GREEN).shift(2*UP)\n",
    "        dot4 = Dot(color=YELLOW).shift(-1*UP + 4*RIGHT)\n",
    "        self.add(numplane, dot1,dot2,dot3,dot4) \n",
    "        updater_func(dot1, 8)\n",
    "        updater_func(dot2, 8)\n",
    "        updater_func(dot3, 8)\n",
    "        updater_func(dot4, 8)"
   ]
  },
  {
   "cell_type": "markdown",
   "metadata": {},
   "source": [
    "# Задание 3"
   ]
  },
  {
   "cell_type": "markdown",
   "metadata": {},
   "source": [
    "$$\n",
    "\\begin{align*}\n",
    "\\begin{cases}\n",
    "\\dot{x}_{1} = x_{2} \\\\\n",
    "\\dot{x}_{2} = ax_{1} + bx_{2}\n",
    "\\end{cases} && \\begin{pmatrix}\n",
    "\\dot{x}_{1} \\\\\n",
    "\\dot{ x}_{2}\n",
    "\\end{pmatrix} = \\begin{pmatrix}\n",
    "0 & 1 \\\\\n",
    "a & b\n",
    "\\end{pmatrix} \\begin{pmatrix}\n",
    "x_{1} \\\\\n",
    "x_{2}\n",
    "\\end{pmatrix}\n",
    "\\end{align*}\n",
    "$$"
   ]
  },
  {
   "cell_type": "markdown",
   "metadata": {},
   "source": [
    "## Пункт 1 ($a<0, b=0$)"
   ]
  },
  {
   "cell_type": "markdown",
   "metadata": {},
   "source": [
    "$$\n",
    "A = \\begin{pmatrix}\n",
    "0 & 1 \\\\\n",
    "-1 & 0\n",
    "\\end{pmatrix}\n",
    "$$"
   ]
  },
  {
   "cell_type": "code",
   "execution_count": 20,
   "metadata": {},
   "outputs": [
    {
     "data": {
      "text/html": [
       "<pre style=\"white-space:pre;overflow-x:auto;line-height:normal;font-family:Menlo,'DejaVu Sans Mono',consolas,'Courier New',monospace\">Manim Community <span style=\"color: #008000; text-decoration-color: #008000\">v0.18.1</span>\n",
       "\n",
       "</pre>\n"
      ],
      "text/plain": [
       "Manim Community \u001b[32mv0.\u001b[0m\u001b[32m18.1\u001b[0m\n",
       "\n"
      ]
     },
     "metadata": {},
     "output_type": "display_data"
    },
    {
     "name": "stderr",
     "output_type": "stream",
     "text": [
      "                                                                                   \r"
     ]
    },
    {
     "data": {
      "text/html": [
       "<video src=\"media\\jupyter\\VectorFieldScene@2024-12-23@11-47-18.mp4\" controls autoplay loop style=\"max-width: 75%;\"  >\n",
       "      Your browser does not support the <code>video</code> element.\n",
       "    </video>"
      ],
      "text/plain": [
       "<IPython.core.display.Video object>"
      ]
     },
     "metadata": {},
     "output_type": "display_data"
    }
   ],
   "source": [
    "%%manim -qm VectorFieldScene\n",
    "\n",
    "class VectorFieldScene(Scene):\n",
    "    def construct(self):\n",
    "\n",
    "        def vector_field_function(pos):\n",
    "            x, y = pos[:2]  \n",
    "            A = np.array([\n",
    "                [0, 1], \n",
    "                [-1, 0]\n",
    "            ])\n",
    "            x = A @ np.array([x, y])\n",
    "            return np.array([x[0], x[1], 0])\n",
    "\n",
    "        numplane = NumberPlane([-10,10],[-5,5])\n",
    "        stream_lines = StreamLines(vector_field_function, color=YELLOW, stroke_width=3, virtual_time=1, max_anchors_per_line=5,)\n",
    "\n",
    "        self.add(numplane, stream_lines)\n",
    "        stream_lines.start_animation(warm_up=False, flow_speed=1.5, time_width=0.5)\n",
    "        self.wait(1)\n",
    "        self.play(stream_lines.end_animation())"
   ]
  },
  {
   "cell_type": "markdown",
   "metadata": {},
   "source": [
    "Похоже на: маятник без трения"
   ]
  },
  {
   "cell_type": "markdown",
   "metadata": {},
   "source": [
    "## Пункт 2 ($a<0, b<0$)"
   ]
  },
  {
   "cell_type": "markdown",
   "metadata": {},
   "source": [
    "$$\n",
    "A = \\begin{pmatrix}\n",
    "0 & 1 \\\\\n",
    "-1 & -1\n",
    "\\end{pmatrix}\n",
    "$$"
   ]
  },
  {
   "cell_type": "code",
   "execution_count": 21,
   "metadata": {},
   "outputs": [
    {
     "data": {
      "text/html": [
       "<pre style=\"white-space:pre;overflow-x:auto;line-height:normal;font-family:Menlo,'DejaVu Sans Mono',consolas,'Courier New',monospace\">Manim Community <span style=\"color: #008000; text-decoration-color: #008000\">v0.18.1</span>\n",
       "\n",
       "</pre>\n"
      ],
      "text/plain": [
       "Manim Community \u001b[32mv0.\u001b[0m\u001b[32m18.1\u001b[0m\n",
       "\n"
      ]
     },
     "metadata": {},
     "output_type": "display_data"
    },
    {
     "name": "stderr",
     "output_type": "stream",
     "text": [
      "                                                                                   \r"
     ]
    },
    {
     "data": {
      "text/html": [
       "<video src=\"media\\jupyter\\VectorFieldScene@2024-12-23@11-47-28.mp4\" controls autoplay loop style=\"max-width: 75%;\"  >\n",
       "      Your browser does not support the <code>video</code> element.\n",
       "    </video>"
      ],
      "text/plain": [
       "<IPython.core.display.Video object>"
      ]
     },
     "metadata": {},
     "output_type": "display_data"
    }
   ],
   "source": [
    "%%manim -qm VectorFieldScene\n",
    "\n",
    "class VectorFieldScene(Scene):\n",
    "    def construct(self):\n",
    "\n",
    "        def vector_field_function(pos):\n",
    "            x, y = pos[:2]  \n",
    "            A = np.array([\n",
    "                [0, 1], \n",
    "                [-1, -1]\n",
    "            ])\n",
    "            x = A @ np.array([x, y])\n",
    "            return np.array([x[0], x[1], 0])\n",
    "\n",
    "        numplane = NumberPlane([-10,10],[-5,5])\n",
    "        stream_lines = StreamLines(vector_field_function, color=YELLOW, stroke_width=3, virtual_time=1, max_anchors_per_line=5,)\n",
    "\n",
    "        self.add(numplane, stream_lines)\n",
    "        stream_lines.start_animation(warm_up=False, flow_speed=1.5, time_width=0.5)\n",
    "        self.wait(1)\n",
    "        self.play(stream_lines.end_animation())"
   ]
  },
  {
   "cell_type": "markdown",
   "metadata": {},
   "source": [
    "Похоже на: маятник с трением"
   ]
  },
  {
   "cell_type": "markdown",
   "metadata": {},
   "source": [
    "## Пункт 3 ($a>0, b=0$)"
   ]
  },
  {
   "cell_type": "markdown",
   "metadata": {},
   "source": [
    "$$\n",
    "A = \\begin{pmatrix}\n",
    "0 & 1 \\\\\n",
    "1 & 0\n",
    "\\end{pmatrix}\n",
    "$$"
   ]
  },
  {
   "cell_type": "code",
   "execution_count": 22,
   "metadata": {},
   "outputs": [
    {
     "data": {
      "text/html": [
       "<pre style=\"white-space:pre;overflow-x:auto;line-height:normal;font-family:Menlo,'DejaVu Sans Mono',consolas,'Courier New',monospace\">Manim Community <span style=\"color: #008000; text-decoration-color: #008000\">v0.18.1</span>\n",
       "\n",
       "</pre>\n"
      ],
      "text/plain": [
       "Manim Community \u001b[32mv0.\u001b[0m\u001b[32m18.1\u001b[0m\n",
       "\n"
      ]
     },
     "metadata": {},
     "output_type": "display_data"
    },
    {
     "name": "stderr",
     "output_type": "stream",
     "text": [
      "                                                                                   \r"
     ]
    },
    {
     "data": {
      "text/html": [
       "<video src=\"media\\jupyter\\VectorFieldScene@2024-12-23@11-47-39.mp4\" controls autoplay loop style=\"max-width: 75%;\"  >\n",
       "      Your browser does not support the <code>video</code> element.\n",
       "    </video>"
      ],
      "text/plain": [
       "<IPython.core.display.Video object>"
      ]
     },
     "metadata": {},
     "output_type": "display_data"
    }
   ],
   "source": [
    "%%manim -qm VectorFieldScene\n",
    "\n",
    "class VectorFieldScene(Scene):\n",
    "    def construct(self):\n",
    "\n",
    "        def vector_field_function(pos):\n",
    "            x, y = pos[:2]  \n",
    "            A = np.array([\n",
    "                [0, 1], \n",
    "                [1, 0]\n",
    "            ])\n",
    "            x = A @ np.array([x, y])\n",
    "            return np.array([x[0], x[1], 0])\n",
    "\n",
    "        numplane = NumberPlane([-10,10],[-5,5])\n",
    "        stream_lines = StreamLines(vector_field_function, color=YELLOW, stroke_width=3, virtual_time=1, max_anchors_per_line=5,)\n",
    "\n",
    "        self.add(numplane, stream_lines)\n",
    "        stream_lines.start_animation(warm_up=False, flow_speed=1.5, time_width=0.5)\n",
    "        self.wait(1)\n",
    "        self.play(stream_lines.end_animation())"
   ]
  },
  {
   "cell_type": "markdown",
   "metadata": {},
   "source": [
    "Похоже на: маятник около верхнего положения"
   ]
  },
  {
   "cell_type": "markdown",
   "metadata": {},
   "source": [
    "## Пункт 4 ($a>0, b<0$)"
   ]
  },
  {
   "cell_type": "markdown",
   "metadata": {},
   "source": [
    "$$\n",
    "A = \\begin{pmatrix}\n",
    "0 & 1 \\\\\n",
    "1 & 1\n",
    "\\end{pmatrix}\n",
    "$$"
   ]
  },
  {
   "cell_type": "code",
   "execution_count": 23,
   "metadata": {},
   "outputs": [
    {
     "data": {
      "text/html": [
       "<pre style=\"white-space:pre;overflow-x:auto;line-height:normal;font-family:Menlo,'DejaVu Sans Mono',consolas,'Courier New',monospace\">Manim Community <span style=\"color: #008000; text-decoration-color: #008000\">v0.18.1</span>\n",
       "\n",
       "</pre>\n"
      ],
      "text/plain": [
       "Manim Community \u001b[32mv0.\u001b[0m\u001b[32m18.1\u001b[0m\n",
       "\n"
      ]
     },
     "metadata": {},
     "output_type": "display_data"
    },
    {
     "name": "stderr",
     "output_type": "stream",
     "text": [
      "                                                                                   \r"
     ]
    },
    {
     "data": {
      "text/html": [
       "<video src=\"media\\jupyter\\VectorFieldScene@2024-12-23@11-47-49.mp4\" controls autoplay loop style=\"max-width: 75%;\"  >\n",
       "      Your browser does not support the <code>video</code> element.\n",
       "    </video>"
      ],
      "text/plain": [
       "<IPython.core.display.Video object>"
      ]
     },
     "metadata": {},
     "output_type": "display_data"
    }
   ],
   "source": [
    "%%manim -qm VectorFieldScene\n",
    "\n",
    "class VectorFieldScene(Scene):\n",
    "    def construct(self):\n",
    "\n",
    "        def vector_field_function(pos):\n",
    "            x, y = pos[:2]  \n",
    "            A = np.array([\n",
    "                [0, 1], \n",
    "                [1, 1]\n",
    "            ])\n",
    "            x = A @ np.array([x, y])\n",
    "            return np.array([x[0], x[1], 0])\n",
    "\n",
    "        numplane = NumberPlane([-10,10],[-5,5])\n",
    "        stream_lines = StreamLines(vector_field_function, color=YELLOW, stroke_width=3, virtual_time=1, max_anchors_per_line=5,)\n",
    "\n",
    "        self.add(numplane, stream_lines)\n",
    "        stream_lines.start_animation(warm_up=False, flow_speed=1.5, time_width=0.5)\n",
    "        self.wait(1)\n",
    "        self.play(stream_lines.end_animation())"
   ]
  },
  {
   "cell_type": "markdown",
   "metadata": {},
   "source": [
    "Похоже на: маятник около верхнего положения с трением"
   ]
  }
 ],
 "metadata": {
  "kernelspec": {
   "display_name": "Python 3",
   "language": "python",
   "name": "python3"
  },
  "language_info": {
   "codemirror_mode": {
    "name": "ipython",
    "version": 3
   },
   "file_extension": ".py",
   "mimetype": "text/x-python",
   "name": "python",
   "nbconvert_exporter": "python",
   "pygments_lexer": "ipython3",
   "version": "3.10.11"
  }
 },
 "nbformat": 4,
 "nbformat_minor": 2
}
